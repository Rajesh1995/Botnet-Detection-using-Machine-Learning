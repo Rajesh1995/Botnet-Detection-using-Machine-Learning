{
 "cells": [
  {
   "cell_type": "code",
   "execution_count": 2,
   "metadata": {},
   "outputs": [
    {
     "name": "stdout",
     "output_type": "stream",
     "text": [
      "importing Jupyter notebook from LoadData.ipynb\n"
     ]
    }
   ],
   "source": [
    "import import_ipynb\n",
    "import LoadData"
   ]
  },
  {
   "cell_type": "code",
   "execution_count": 3,
   "metadata": {},
   "outputs": [
    {
     "name": "stdout",
     "output_type": "stream",
     "text": [
      "importing Jupyter notebook from DataPreparation.ipynb\n"
     ]
    }
   ],
   "source": [
    "import DataPreparation"
   ]
  },
  {
   "cell_type": "code",
   "execution_count": 4,
   "metadata": {},
   "outputs": [
    {
     "name": "stdout",
     "output_type": "stream",
     "text": [
      "Data[2]= [0 0 0 ... 1 1 1]\n"
     ]
    }
   ],
   "source": [
    "import pickle\n",
    "file = open('flowdata.pickle', 'rb')\n",
    "data  = pickle.load(file)\n",
    "file.close()\n",
    "# print(\"File= \"+str(file))\n",
    "# print(\"Data= \"+str(data))\n",
    "print(\"Data[2]= \"+str(data[1]))"
   ]
  },
  {
   "cell_type": "code",
   "execution_count": 5,
   "metadata": {},
   "outputs": [],
   "source": [
    "Xdata = data[0]\n",
    "Ydata =  data[1]\n",
    "XdataT = data[2]\n",
    "YdataT = data[3]\n",
    "# print(\"XdataT= \"+str(XdataT))"
   ]
  },
  {
   "cell_type": "code",
   "execution_count": 6,
   "metadata": {},
   "outputs": [],
   "source": [
    "from sklearn.linear_model import *\n",
    "from sklearn.tree import *\n",
    "from sklearn.naive_bayes import *\n",
    "from sklearn.neighbors import *"
   ]
  },
  {
   "cell_type": "code",
   "execution_count": 7,
   "metadata": {},
   "outputs": [
    {
     "data": {
      "text/plain": [
       "<Prepare(Thread-6, initial)>"
      ]
     },
     "execution_count": 7,
     "metadata": {},
     "output_type": "execute_result"
    }
   ],
   "source": [
    "DataPreparation.Prepare(Xdata,Ydata,XdataT,YdataT)"
   ]
  },
  {
   "cell_type": "code",
   "execution_count": 8,
   "metadata": {},
   "outputs": [
    {
     "data": {
      "text/plain": [
       "DecisionTreeClassifier(class_weight=None, criterion='gini', max_depth=None,\n",
       "                       max_features=None, max_leaf_nodes=None,\n",
       "                       min_impurity_decrease=0.0, min_impurity_split=None,\n",
       "                       min_samples_leaf=1, min_samples_split=2,\n",
       "                       min_weight_fraction_leaf=0.0, presort=False,\n",
       "                       random_state=None, splitter='best')"
      ]
     },
     "execution_count": 8,
     "metadata": {},
     "output_type": "execute_result"
    }
   ],
   "source": [
    "clf = DecisionTreeClassifier()\n",
    "clf.fit(Xdata,Ydata)"
   ]
  },
  {
   "cell_type": "code",
   "execution_count": 14,
   "metadata": {},
   "outputs": [
    {
     "name": "stdout",
     "output_type": "stream",
     "text": [
      "The Score of DecisionTree Classcifier is  99.90000999900009\n"
     ]
    }
   ],
   "source": [
    "Prediction1=clf.predict(XdataT)\n",
    "Score = clf.score(XdataT,YdataT)\n",
    "m=Score*100\n",
    "print(\"The Score of DecisionTree Classcifier is \", Score*100)"
   ]
  },
  {
   "cell_type": "code",
   "execution_count": 9,
   "metadata": {},
   "outputs": [
    {
     "name": "stdout",
     "output_type": "stream",
     "text": [
      "XdataT=[[3.4400000e-04 1.0000000e+00 5.1255000e+04 ... 2.0000000e+00\n",
      "  3.0100000e+02 2.1905070e+06]\n",
      " [3.4200000e-04 1.0000000e+00 5.1255000e+04 ... 2.0000000e+00\n",
      "  2.1100000e+02 2.1905070e+06]\n",
      " [1.0462961e+01 0.0000000e+00 3.3258000e+04 ... 2.1000000e+01\n",
      "  5.7310000e+03 2.1634100e+05]\n",
      " ...\n",
      " [0.0000000e+00 0.0000000e+00 2.4060000e+03 ... 1.0000000e+00\n",
      "  6.2000000e+01 6.8710000e+04]\n",
      " [0.0000000e+00 0.0000000e+00 2.4070000e+03 ... 1.0000000e+00\n",
      "  6.2000000e+01 6.8710000e+04]\n",
      " [0.0000000e+00 0.0000000e+00 2.4090000e+03 ... 1.0000000e+00\n",
      "  6.2000000e+01 6.8710000e+04]]\n"
     ]
    }
   ],
   "source": [
    "print(\"XdataT=\"+str(XdataT))"
   ]
  },
  {
   "cell_type": "code",
   "execution_count": 81,
   "metadata": {},
   "outputs": [],
   "source": [
    "from sklearn import neighbors\n",
    "cls=neighbors.KNeighborsClassifier()"
   ]
  },
  {
   "cell_type": "code",
   "execution_count": 84,
   "metadata": {},
   "outputs": [
    {
     "name": "stdout",
     "output_type": "stream",
     "text": [
      "The Score of KNearest Neighbour Classcifier is 62.72372762723728%\n"
     ]
    }
   ],
   "source": [
    "cls.fit(Xdata,Ydata)\n",
    "pre1=cls.predict(XdataT)\n",
    "i=cls.score(XdataT,YdataT)\n",
    "print(\"The Score of KNearest Neighbour Classcifier is \"+str(i*100)+\"%\")\n",
    "res=str(i*100)"
   ]
  },
  {
   "cell_type": "code",
   "execution_count": 27,
   "metadata": {},
   "outputs": [
    {
     "name": "stdout",
     "output_type": "stream",
     "text": [
      "The Score of Gaussian Naive Bayes model Classcifier is 62.72372762723728%\n"
     ]
    }
   ],
   "source": [
    "from sklearn.naive_bayes import *\n",
    "cls=GaussianNB()\n",
    "cls.fit(Xdata,Ydata)\n",
    "Prediction = cls.predict(XdataT)\n",
    "score = cls.score(XdataT,YdataT)\n",
    "p3=score*100\n",
    "print(\"The Score of Gaussian Naive Bayes model Classcifier is \"+str(score*100)+\"%\")"
   ]
  },
  {
   "cell_type": "code",
   "execution_count": 17,
   "metadata": {},
   "outputs": [
    {
     "data": {
      "text/plain": [
       "VotingClassifier(estimators=[('Gaussian Naive Bayes',\n",
       "                              GaussianNB(priors=None, var_smoothing=1e-09)),\n",
       "                             ('KNN',\n",
       "                              KNeighborsClassifier(algorithm='auto',\n",
       "                                                   leaf_size=30,\n",
       "                                                   metric='minkowski',\n",
       "                                                   metric_params=None,\n",
       "                                                   n_jobs=None, n_neighbors=5,\n",
       "                                                   p=2, weights='uniform'))],\n",
       "                 flatten_transform=True, n_jobs=None, voting='hard',\n",
       "                 weights=None)"
      ]
     },
     "execution_count": 17,
     "metadata": {},
     "output_type": "execute_result"
    }
   ],
   "source": [
    "from sklearn.ensemble import VotingClassifier\n",
    "model1=DecisionTreeClassifier(random_state=1)\n",
    "model2=GaussianNB()\n",
    "model3=KNeighborsClassifier()\n",
    "model = VotingClassifier(estimators=[('Gaussian Naive Bayes',model2),('KNN',model3)], voting='hard')\n",
    "model.fit(Xdata,Ydata)\n"
   ]
  },
  {
   "cell_type": "code",
   "execution_count": 64,
   "metadata": {},
   "outputs": [
    {
     "name": "stdout",
     "output_type": "stream",
     "text": [
      "The Score of Ensemble Classifier= 99.96000399960005%\n"
     ]
    }
   ],
   "source": [
    "r=model.score(XdataT,YdataT)\n",
    "r1=r*100\n",
    "print(\"The Score of Ensemble Classifier= \"+str(r*100)+\"%\")"
   ]
  },
  {
   "cell_type": "code",
   "execution_count": 10,
   "metadata": {},
   "outputs": [
    {
     "name": "stdout",
     "output_type": "stream",
     "text": [
      "The Score of Ensemble Classifier= 99.85001499850014%\n"
     ]
    }
   ],
   "source": [
    "from sklearn.ensemble import VotingClassifier\n",
    "model1=DecisionTreeClassifier(random_state=1)\n",
    "model2=GaussianNB()\n",
    "model3=KNeighborsClassifier()\n",
    "model = VotingClassifier(estimators=[('Gaussian Naive Bayes',model2),('KNN',model3)], voting='soft')\n",
    "model.fit(Xdata,Ydata)\n",
    "r=model.score(XdataT,YdataT)\n",
    "r1=r*100\n",
    "print(\"The Score of Ensemble Classifier= \"+str(r*100)+\"%\")"
   ]
  },
  {
   "cell_type": "code",
   "execution_count": 30,
   "metadata": {},
   "outputs": [
    {
     "data": {
      "image/png": "[encoded data removed]",
      "text/plain": [
       "<Figure size 432x288 with 1 Axes>"
      ]
     },
     "metadata": {
      "needs_background": "light"
     },
     "output_type": "display_data"
    }
   ],
   "source": [
    "import matplotlib.pyplot as plt\n",
    "fig = plt.figure()\n",
    "ax = fig.add_axes([0,0,1,1])\n",
    "langs = ['DT', 'GNB', 'KNN', 'Ensemble']\n",
    "results = [99.90000999900009,62.72372762723728,62.72372762723728,99.96000399960005]\n",
    "ax.bar(langs, results)\n",
    "\n",
    "plt.show()"
   ]
  },
  {
   "cell_type": "code",
   "execution_count": null,
   "metadata": {},
   "outputs": [],
   "source": []
  }
 ],
 "metadata": {
  "kernelspec": {
   "display_name": "Python 3",
   "language": "python",
   "name": "python3"
  },
  "language_info": {
   "codemirror_mode": {
    "name": "ipython",
    "version": 3
   },
   "file_extension": ".py",
   "mimetype": "text/x-python",
   "name": "python",
   "nbconvert_exporter": "python",
   "pygments_lexer": "ipython3",
   "version": "3.7.3"
  }
 },
 "nbformat": 4,
 "nbformat_minor": 4
}
