{
 "cells": [
  {
   "cell_type": "code",
   "execution_count": 1,
   "metadata": {},
   "outputs": [],
   "source": [
    "import pandas as pd\n",
    "import numpy as np\n",
    "data = pd.read_csv(\"D:/CTU-13-Dataset/CTU-13-Dataset/8/capture20110816-3.binetflow\")"
   ]
  },
  {
   "cell_type": "code",
   "execution_count": 2,
   "metadata": {},
   "outputs": [],
   "source": [
    " data['Label'] = data.Label.str.contains(\"Botnet\")"
   ]
  },
  {
   "cell_type": "code",
   "execution_count": 3,
   "metadata": {},
   "outputs": [
    {
     "data": {
      "text/plain": [
       "Index(['StartTime', 'Dur', 'Proto', 'SrcAddr', 'Sport', 'Dir', 'DstAddr',\n",
       "       'Dport', 'State', 'sTos', 'dTos', 'TotPkts', 'TotBytes', 'SrcBytes',\n",
       "       'Label'],\n",
       "      dtype='object')"
      ]
     },
     "execution_count": 3,
     "metadata": {},
     "output_type": "execute_result"
    }
   ],
   "source": [
    "data.columns"
   ]
  },
  {
   "cell_type": "code",
   "execution_count": 5,
   "metadata": {},
   "outputs": [
    {
     "data": {
      "text/plain": [
       "array([False,  True])"
      ]
     },
     "execution_count": 5,
     "metadata": {},
     "output_type": "execute_result"
    }
   ],
   "source": [
    "data[\"Label\"].unique()"
   ]
  },
  {
   "cell_type": "code",
   "execution_count": 3,
   "metadata": {},
   "outputs": [],
   "source": [
    "from __future__ import division\n",
    "import os, sys\n",
    "import threading"
   ]
  },
  {
   "cell_type": "code",
   "execution_count": 4,
   "metadata": {},
   "outputs": [],
   "source": [
    "class Prepare(threading.Thread):\n",
    "    def __init__(self, X, Y, XT, YT, accLabel=None):\n",
    "#         super().__init__()\n",
    "        \n",
    "        threading.Thread.__init__(self)\n",
    "        self.X=X\n",
    "        self.Y=Y\n",
    "        self.XT=XT\n",
    "        self.YT=YT\n",
    "        self.accLabel= accLabel"
   ]
  },
  {
   "cell_type": "code",
   "execution_count": 5,
   "metadata": {},
   "outputs": [],
   "source": [
    "def run(self):\n",
    "    X = np.zeros(self.X.shape)\n",
    "    Y = np.zeros(self.Y.shape)\n",
    "    XT = np.zeros(self.XT.shape)\n",
    "    YT = np.zeros(self.YT.shape)\n",
    "    np.copyto(X, self.X)\n",
    "    np.copyto(Y, self.Y)\n",
    "    np.copyto(XT, self.XT)\n",
    "    np.copyto(YT, self.YT)\n",
    "    for i in range(9):\n",
    "        X[:, i] = (X[:, i] - X[:, i].mean()) / (X[:, i].std())\n",
    "    for i in range(9):\n",
    "        XT[:, i] = (XT[:, i] - XT[:, i].mean()) / (XT[:, i].std())"
   ]
  },
  {
   "cell_type": "code",
   "execution_count": null,
   "metadata": {},
   "outputs": [],
   "source": []
  }
 ],
 "metadata": {
  "kernelspec": {
   "display_name": "Python 3",
   "language": "python",
   "name": "python3"
  },
  "language_info": {
   "codemirror_mode": {
    "name": "ipython",
    "version": 3
   },
   "file_extension": ".py",
   "mimetype": "text/x-python",
   "name": "python",
   "nbconvert_exporter": "python",
   "pygments_lexer": "ipython3",
   "version": "3.7.3"
  }
 },
 "nbformat": 4,
 "nbformat_minor": 4
}
